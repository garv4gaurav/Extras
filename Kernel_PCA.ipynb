{
  "nbformat": 4,
  "nbformat_minor": 0,
  "metadata": {
    "colab": {
      "name": "Kernel_PCA.ipynb",
      "provenance": [],
      "collapsed_sections": []
    },
    "kernelspec": {
      "name": "python3",
      "display_name": "Python 3"
    }
  },
  "cells": [
    {
      "cell_type": "code",
      "metadata": {
        "id": "ZbEZf1TPVjuX",
        "outputId": "cd1ddc4e-a466-47e8-9ea2-c379fa657b3e",
        "colab": {
          "base_uri": "https://localhost:8080/"
        }
      },
      "source": [
        "import numpy as np\n",
        "import copy\n",
        "import pandas as pd\n",
        "import matplotlib.pyplot as plt\n",
        "from sklearn.decomposition import KernelPCA\n",
        "from sklearn.model_selection import train_test_split\n",
        "from scipy.stats import zscore\n",
        "\n",
        "from google.colab import drive\n",
        "drive.mount('/content/drive')"
      ],
      "execution_count": 1,
      "outputs": [
        {
          "output_type": "stream",
          "text": [
            "Drive already mounted at /content/drive; to attempt to forcibly remount, call drive.mount(\"/content/drive\", force_remount=True).\n"
          ],
          "name": "stdout"
        }
      ]
    },
    {
      "cell_type": "code",
      "metadata": {
        "id": "vtFfrFa0WdeN"
      },
      "source": [
        "database_path = \"/content/drive/My Drive/DBs/PCA/\""
      ],
      "execution_count": 2,
      "outputs": []
    },
    {
      "cell_type": "code",
      "metadata": {
        "id": "upfO0B2tXwzV"
      },
      "source": [
        "database = pd.read_csv(database_path + \"Social_Network_Ads.csv\")"
      ],
      "execution_count": 3,
      "outputs": []
    },
    {
      "cell_type": "code",
      "metadata": {
        "id": "il386-6i4xf3"
      },
      "source": [
        "dummy_db = pd.get_dummies(database['Gender'])\n",
        "database = pd.concat([database, dummy_db], axis = 1)"
      ],
      "execution_count": 4,
      "outputs": []
    },
    {
      "cell_type": "code",
      "metadata": {
        "id": "rpwEDvc-4xiZ",
        "outputId": "a2cea9a5-1e32-4069-f53c-583515256c0c",
        "colab": {
          "base_uri": "https://localhost:8080/",
          "height": 166
        }
      },
      "source": [
        "database = database.drop([\"User ID\",\"Gender\",\"Female\"], axis = 1)\n",
        "database.head(4)"
      ],
      "execution_count": 5,
      "outputs": [
        {
          "output_type": "execute_result",
          "data": {
            "text/html": [
              "<div>\n",
              "<style scoped>\n",
              "    .dataframe tbody tr th:only-of-type {\n",
              "        vertical-align: middle;\n",
              "    }\n",
              "\n",
              "    .dataframe tbody tr th {\n",
              "        vertical-align: top;\n",
              "    }\n",
              "\n",
              "    .dataframe thead th {\n",
              "        text-align: right;\n",
              "    }\n",
              "</style>\n",
              "<table border=\"1\" class=\"dataframe\">\n",
              "  <thead>\n",
              "    <tr style=\"text-align: right;\">\n",
              "      <th></th>\n",
              "      <th>Age</th>\n",
              "      <th>EstimatedSalary</th>\n",
              "      <th>Purchased</th>\n",
              "      <th>Male</th>\n",
              "    </tr>\n",
              "  </thead>\n",
              "  <tbody>\n",
              "    <tr>\n",
              "      <th>0</th>\n",
              "      <td>19.0</td>\n",
              "      <td>19000.0</td>\n",
              "      <td>0</td>\n",
              "      <td>1</td>\n",
              "    </tr>\n",
              "    <tr>\n",
              "      <th>1</th>\n",
              "      <td>35.0</td>\n",
              "      <td>20000.0</td>\n",
              "      <td>0</td>\n",
              "      <td>1</td>\n",
              "    </tr>\n",
              "    <tr>\n",
              "      <th>2</th>\n",
              "      <td>26.0</td>\n",
              "      <td>43000.0</td>\n",
              "      <td>0</td>\n",
              "      <td>0</td>\n",
              "    </tr>\n",
              "    <tr>\n",
              "      <th>3</th>\n",
              "      <td>27.0</td>\n",
              "      <td>57000.0</td>\n",
              "      <td>0</td>\n",
              "      <td>0</td>\n",
              "    </tr>\n",
              "  </tbody>\n",
              "</table>\n",
              "</div>"
            ],
            "text/plain": [
              "    Age  EstimatedSalary  Purchased  Male\n",
              "0  19.0          19000.0          0     1\n",
              "1  35.0          20000.0          0     1\n",
              "2  26.0          43000.0          0     0\n",
              "3  27.0          57000.0          0     0"
            ]
          },
          "metadata": {
            "tags": []
          },
          "execution_count": 5
        }
      ]
    },
    {
      "cell_type": "code",
      "metadata": {
        "id": "Q8SfCBd0P2DK"
      },
      "source": [
        "database = database.apply(zscore)"
      ],
      "execution_count": 6,
      "outputs": []
    },
    {
      "cell_type": "code",
      "metadata": {
        "id": "tkpsp3PUhaaD",
        "outputId": "2079796c-0c90-4b0a-c7f9-5f8d493b6f4b",
        "colab": {
          "base_uri": "https://localhost:8080/"
        }
      },
      "source": [
        "database.shape"
      ],
      "execution_count": 7,
      "outputs": [
        {
          "output_type": "execute_result",
          "data": {
            "text/plain": [
              "(400, 4)"
            ]
          },
          "metadata": {
            "tags": []
          },
          "execution_count": 7
        }
      ]
    },
    {
      "cell_type": "code",
      "metadata": {
        "id": "Gx6M7W0bXw40",
        "outputId": "6af60d1b-1df1-4d7f-e62d-c6b2cd391989",
        "colab": {
          "base_uri": "https://localhost:8080/",
          "height": 69
        }
      },
      "source": [
        "'''for i in range(1, 15):\n",
        "    kpca = KernelPCA(n_components = i, kernel = 'rbf')\n",
        "    tranformed = kpca.fit_transform(database)\n",
        "    explained_variance = np.var(tranformed, axis = 0)\n",
        "    #print(explained_variance)\n",
        "    print(np.sum(explained_variance))\n",
        "    explained_variance_ratio = explained_variance / np.sum(explained_variance)\n",
        "    #print(explained_variance_ratio)\n",
        "    #print(np.cumsum(explained_variance_ratio))'''"
      ],
      "execution_count": 8,
      "outputs": [
        {
          "output_type": "execute_result",
          "data": {
            "application/vnd.google.colaboratory.intrinsic+json": {
              "type": "string"
            },
            "text/plain": [
              "\"for i in range(1, 15):\\n    kpca = KernelPCA(n_components = i, kernel = 'rbf')\\n    tranformed = kpca.fit_transform(database)\\n    explained_variance = np.var(tranformed, axis = 0)\\n    #print(explained_variance)\\n    print(np.sum(explained_variance))\\n    explained_variance_ratio = explained_variance / np.sum(explained_variance)\\n    #print(explained_variance_ratio)\\n    #print(np.cumsum(explained_variance_ratio))\""
            ]
          },
          "metadata": {
            "tags": []
          },
          "execution_count": 8
        }
      ]
    },
    {
      "cell_type": "code",
      "metadata": {
        "id": "Av9ZiZmAXxCz",
        "outputId": "d85350cf-a721-4133-d0ef-5522ee90b9c1",
        "colab": {
          "base_uri": "https://localhost:8080/",
          "height": 442
        }
      },
      "source": [
        "plt.figure(figsize=(10,7))\n",
        "kpca = KernelPCA(kernel='rbf', gamma=0.01)\n",
        "tranformed = kpca.fit_transform(database)\n",
        "explained_variance = np.var(tranformed, axis = 0)\n",
        "explained_variance_ratio = explained_variance / np.sum(explained_variance)\n",
        "plt.plot(np.cumsum(explained_variance_ratio), color='k', lw=2)\n",
        "\n",
        "plt.xlabel('Number of components')\n",
        "plt.ylabel('Total explained variance')\n",
        "\n",
        "plt.xlim(0, 18)\n",
        "plt.yticks(np.arange(0, 1.1, 0.1))\n",
        "\n",
        "plt.axvline(6, c='b')\n",
        "plt.axhline(0.95, c='r')\n",
        "\n",
        "plt.show()"
      ],
      "execution_count": 9,
      "outputs": [
        {
          "output_type": "display_data",
          "data": {
            "image/png": "[encoded data removed]",
            "text/plain": [
              "<Figure size 720x504 with 1 Axes>"
            ]
          },
          "metadata": {
            "tags": [],
            "needs_background": "light"
          }
        }
      ]
    },
    {
      "cell_type": "code",
      "metadata": {
        "id": "YYDkr6-olrWh"
      },
      "source": [
        ""
      ],
      "execution_count": 9,
      "outputs": []
    }
  ]
}